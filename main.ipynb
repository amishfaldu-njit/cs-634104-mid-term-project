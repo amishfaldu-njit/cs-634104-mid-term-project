{
 "cells": [
  {
   "cell_type": "markdown",
   "metadata": {},
   "source": [
    "# Inputs from user"
   ]
  },
  {
   "cell_type": "code",
   "execution_count": 1,
   "metadata": {},
   "outputs": [
    {
     "name": "stdout",
     "output_type": "stream",
     "text": [
      "Welcome!\n"
     ]
    }
   ],
   "source": [
    "print(\"Welcome!\")"
   ]
  },
  {
   "cell_type": "markdown",
   "metadata": {},
   "source": [
    "## Dataset selection input"
   ]
  },
  {
   "cell_type": "code",
   "execution_count": 2,
   "metadata": {},
   "outputs": [
    {
     "name": "stdout",
     "output_type": "stream",
     "text": [
      "Available datasets: \n",
      "1. amazon\n",
      "2. bestbuy\n",
      "3. kmart\n",
      "4. nike\n",
      "5. custom\n",
      "You have selected Custom dataset\n"
     ]
    }
   ],
   "source": [
    "dataset_mapping = {\n",
    "    \"1\": \"amazon\",\n",
    "    \"2\": \"bestbuy\",\n",
    "    \"3\": \"kmart\",\n",
    "    \"4\": \"nike\",\n",
    "    \"5\": \"custom\"\n",
    "}\n",
    "min_dataset_index = list(dataset_mapping.keys())[0]\n",
    "max_dataset_index = list(dataset_mapping.keys())[-1]\n",
    "print(\"Available datasets: \")\n",
    "for key, value in dataset_mapping.items():\n",
    "    print(f\"{key}. {value}\")\n",
    "\n",
    "while True:\n",
    "    dataset_index = input(\n",
    "        f\"Choose a dataset to run the algorithm on ({min_dataset_index}-{max_dataset_index}): \"\n",
    "    )\n",
    "    if dataset_index not in dataset_mapping.keys():\n",
    "        print(\"Invalid dataset\")\n",
    "        print(\"Try again!\")\n",
    "        continue\n",
    "    print(f\"You have selected {dataset_mapping[dataset_index].title()} dataset\")\n",
    "    break"
   ]
  },
  {
   "cell_type": "markdown",
   "metadata": {},
   "source": [
    "## Min support input"
   ]
  },
  {
   "cell_type": "code",
   "execution_count": 3,
   "metadata": {},
   "outputs": [
    {
     "name": "stdout",
     "output_type": "stream",
     "text": [
      "You have selected minimum support of 20.0%\n"
     ]
    }
   ],
   "source": [
    "while(True):\n",
    "    try:\n",
    "        min_support = float(input(\"Enter minimum support in % (1-100): \"))\n",
    "        if min_support < 1 or min_support > 100:\n",
    "            print(\"Invalid value for minimum support\")\n",
    "            continue\n",
    "        print(f\"You have selected minimum support of {min_support}%\")\n",
    "        min_support = min_support / 100\n",
    "        break\n",
    "    except ValueError:\n",
    "        print(\"Invalid value for minimum support\")\n",
    "        print(\"Try again!\")"
   ]
  },
  {
   "cell_type": "markdown",
   "metadata": {},
   "source": [
    "## Min confidence input"
   ]
  },
  {
   "cell_type": "code",
   "execution_count": 4,
   "metadata": {},
   "outputs": [
    {
     "name": "stdout",
     "output_type": "stream",
     "text": [
      "You have selected minimum confidence of 40.0%\n"
     ]
    }
   ],
   "source": [
    "while True:\n",
    "    try:\n",
    "        min_confidence = float(input(\"Enter minimum confidence in % (1-100): \"))\n",
    "        if min_confidence < 1 or min_confidence > 100:\n",
    "            print(\"Invalid value for minimum confidence\")\n",
    "            continue\n",
    "        print(f\"You have selected minimum confidence of {min_confidence}%\")\n",
    "        min_confidence = min_confidence / 100\n",
    "        break\n",
    "    except ValueError:\n",
    "        print(\"Invalid value for minimum confidence\")\n",
    "        print(\"Try again!\")"
   ]
  },
  {
   "cell_type": "markdown",
   "metadata": {},
   "source": [
    "# Load the dataset"
   ]
  },
  {
   "cell_type": "code",
   "execution_count": 5,
   "metadata": {},
   "outputs": [],
   "source": [
    "import pandas as pd\n",
    "\n",
    "transactions_file = f\"./data/{dataset_mapping[dataset_index]}-transactions.csv\"\n",
    "transactions_df = pd.read_csv(transactions_file)\n",
    "items_file = f\"./data/{dataset_mapping[dataset_index]}-items.csv\"\n",
    "items_df = pd.read_csv(items_file)"
   ]
  },
  {
   "cell_type": "code",
   "execution_count": 6,
   "metadata": {},
   "outputs": [
    {
     "data": {
      "text/html": [
       "<div>\n",
       "<style scoped>\n",
       "    .dataframe tbody tr th:only-of-type {\n",
       "        vertical-align: middle;\n",
       "    }\n",
       "\n",
       "    .dataframe tbody tr th {\n",
       "        vertical-align: top;\n",
       "    }\n",
       "\n",
       "    .dataframe thead th {\n",
       "        text-align: right;\n",
       "    }\n",
       "</style>\n",
       "<table border=\"1\" class=\"dataframe\">\n",
       "  <thead>\n",
       "    <tr style=\"text-align: right;\">\n",
       "      <th></th>\n",
       "      <th>Items</th>\n",
       "    </tr>\n",
       "  </thead>\n",
       "  <tbody>\n",
       "    <tr>\n",
       "      <th>0</th>\n",
       "      <td>BISCUIT</td>\n",
       "    </tr>\n",
       "    <tr>\n",
       "      <th>1</th>\n",
       "      <td>BOURNVITA</td>\n",
       "    </tr>\n",
       "    <tr>\n",
       "      <th>2</th>\n",
       "      <td>BREAD</td>\n",
       "    </tr>\n",
       "    <tr>\n",
       "      <th>3</th>\n",
       "      <td>COKE</td>\n",
       "    </tr>\n",
       "    <tr>\n",
       "      <th>4</th>\n",
       "      <td>COFFEE</td>\n",
       "    </tr>\n",
       "    <tr>\n",
       "      <th>5</th>\n",
       "      <td>CORNFLAKES</td>\n",
       "    </tr>\n",
       "    <tr>\n",
       "      <th>6</th>\n",
       "      <td>JAM</td>\n",
       "    </tr>\n",
       "    <tr>\n",
       "      <th>7</th>\n",
       "      <td>MAGGI</td>\n",
       "    </tr>\n",
       "    <tr>\n",
       "      <th>8</th>\n",
       "      <td>MILK</td>\n",
       "    </tr>\n",
       "    <tr>\n",
       "      <th>9</th>\n",
       "      <td>SUGER</td>\n",
       "    </tr>\n",
       "    <tr>\n",
       "      <th>10</th>\n",
       "      <td>TEA</td>\n",
       "    </tr>\n",
       "  </tbody>\n",
       "</table>\n",
       "</div>"
      ],
      "text/plain": [
       "         Items\n",
       "0      BISCUIT\n",
       "1    BOURNVITA\n",
       "2        BREAD\n",
       "3         COKE\n",
       "4       COFFEE\n",
       "5   CORNFLAKES\n",
       "6          JAM\n",
       "7        MAGGI\n",
       "8         MILK\n",
       "9        SUGER\n",
       "10         TEA"
      ]
     },
     "execution_count": 6,
     "metadata": {},
     "output_type": "execute_result"
    }
   ],
   "source": [
    "items_df"
   ]
  },
  {
   "cell_type": "code",
   "execution_count": 7,
   "metadata": {},
   "outputs": [
    {
     "data": {
      "text/html": [
       "<div>\n",
       "<style scoped>\n",
       "    .dataframe tbody tr th:only-of-type {\n",
       "        vertical-align: middle;\n",
       "    }\n",
       "\n",
       "    .dataframe tbody tr th {\n",
       "        vertical-align: top;\n",
       "    }\n",
       "\n",
       "    .dataframe thead th {\n",
       "        text-align: right;\n",
       "    }\n",
       "</style>\n",
       "<table border=\"1\" class=\"dataframe\">\n",
       "  <thead>\n",
       "    <tr style=\"text-align: right;\">\n",
       "      <th></th>\n",
       "      <th>Transaction ID</th>\n",
       "      <th>Transaction</th>\n",
       "    </tr>\n",
       "  </thead>\n",
       "  <tbody>\n",
       "    <tr>\n",
       "      <th>0</th>\n",
       "      <td>0</td>\n",
       "      <td>MILK, BREAD, BISCUIT</td>\n",
       "    </tr>\n",
       "    <tr>\n",
       "      <th>1</th>\n",
       "      <td>1</td>\n",
       "      <td>BREAD, MILK, BISCUIT, CORNFLAKES</td>\n",
       "    </tr>\n",
       "    <tr>\n",
       "      <th>2</th>\n",
       "      <td>2</td>\n",
       "      <td>BREAD, TEA, BOURNVITA</td>\n",
       "    </tr>\n",
       "    <tr>\n",
       "      <th>3</th>\n",
       "      <td>3</td>\n",
       "      <td>JAM, MAGGI, BREAD, MILK</td>\n",
       "    </tr>\n",
       "    <tr>\n",
       "      <th>4</th>\n",
       "      <td>4</td>\n",
       "      <td>MAGGI, TEA, BISCUIT</td>\n",
       "    </tr>\n",
       "    <tr>\n",
       "      <th>5</th>\n",
       "      <td>5</td>\n",
       "      <td>BREAD, TEA, BOURNVITA</td>\n",
       "    </tr>\n",
       "    <tr>\n",
       "      <th>6</th>\n",
       "      <td>6</td>\n",
       "      <td>MAGGI, TEA, CORNFLAKES</td>\n",
       "    </tr>\n",
       "    <tr>\n",
       "      <th>7</th>\n",
       "      <td>7</td>\n",
       "      <td>MAGGI, BREAD, TEA, BISCUIT</td>\n",
       "    </tr>\n",
       "    <tr>\n",
       "      <th>8</th>\n",
       "      <td>8</td>\n",
       "      <td>JAM, MAGGI, BREAD, TEA</td>\n",
       "    </tr>\n",
       "    <tr>\n",
       "      <th>9</th>\n",
       "      <td>9</td>\n",
       "      <td>BREAD, MILK</td>\n",
       "    </tr>\n",
       "    <tr>\n",
       "      <th>10</th>\n",
       "      <td>10</td>\n",
       "      <td>COFFEE, COKE, BISCUIT, CORNFLAKES</td>\n",
       "    </tr>\n",
       "    <tr>\n",
       "      <th>11</th>\n",
       "      <td>11</td>\n",
       "      <td>COFFEE, COKE, BISCUIT, CORNFLAKES</td>\n",
       "    </tr>\n",
       "    <tr>\n",
       "      <th>12</th>\n",
       "      <td>12</td>\n",
       "      <td>COFFEE, SUGER, BOURNVITA</td>\n",
       "    </tr>\n",
       "    <tr>\n",
       "      <th>13</th>\n",
       "      <td>13</td>\n",
       "      <td>BREAD, COFFEE, COKE</td>\n",
       "    </tr>\n",
       "    <tr>\n",
       "      <th>14</th>\n",
       "      <td>14</td>\n",
       "      <td>BREAD, SUGER, BISCUIT</td>\n",
       "    </tr>\n",
       "    <tr>\n",
       "      <th>15</th>\n",
       "      <td>15</td>\n",
       "      <td>COFFEE, SUGER, CORNFLAKES</td>\n",
       "    </tr>\n",
       "    <tr>\n",
       "      <th>16</th>\n",
       "      <td>16</td>\n",
       "      <td>BREAD, SUGER, BOURNVITA</td>\n",
       "    </tr>\n",
       "    <tr>\n",
       "      <th>17</th>\n",
       "      <td>17</td>\n",
       "      <td>BREAD, COFFEE, SUGER</td>\n",
       "    </tr>\n",
       "    <tr>\n",
       "      <th>18</th>\n",
       "      <td>18</td>\n",
       "      <td>BREAD, COFFEE, SUGER</td>\n",
       "    </tr>\n",
       "    <tr>\n",
       "      <th>19</th>\n",
       "      <td>19</td>\n",
       "      <td>TEA, MILK, COFFEE, CORNFLAKES</td>\n",
       "    </tr>\n",
       "    <tr>\n",
       "      <th>20</th>\n",
       "      <td>20</td>\n",
       "      <td>TEA, MILK, COFFEE, CORNFLAKES, BREAD</td>\n",
       "    </tr>\n",
       "  </tbody>\n",
       "</table>\n",
       "</div>"
      ],
      "text/plain": [
       "    Transaction ID                           Transaction\n",
       "0                0                  MILK, BREAD, BISCUIT\n",
       "1                1      BREAD, MILK, BISCUIT, CORNFLAKES\n",
       "2                2                 BREAD, TEA, BOURNVITA\n",
       "3                3               JAM, MAGGI, BREAD, MILK\n",
       "4                4                   MAGGI, TEA, BISCUIT\n",
       "5                5                 BREAD, TEA, BOURNVITA\n",
       "6                6                MAGGI, TEA, CORNFLAKES\n",
       "7                7            MAGGI, BREAD, TEA, BISCUIT\n",
       "8                8                JAM, MAGGI, BREAD, TEA\n",
       "9                9                           BREAD, MILK\n",
       "10              10     COFFEE, COKE, BISCUIT, CORNFLAKES\n",
       "11              11     COFFEE, COKE, BISCUIT, CORNFLAKES\n",
       "12              12              COFFEE, SUGER, BOURNVITA\n",
       "13              13                   BREAD, COFFEE, COKE\n",
       "14              14                 BREAD, SUGER, BISCUIT\n",
       "15              15             COFFEE, SUGER, CORNFLAKES\n",
       "16              16               BREAD, SUGER, BOURNVITA\n",
       "17              17                  BREAD, COFFEE, SUGER\n",
       "18              18                  BREAD, COFFEE, SUGER\n",
       "19              19         TEA, MILK, COFFEE, CORNFLAKES\n",
       "20              20  TEA, MILK, COFFEE, CORNFLAKES, BREAD"
      ]
     },
     "execution_count": 7,
     "metadata": {},
     "output_type": "execute_result"
    }
   ],
   "source": [
    "pd.options.display.max_colwidth = 100\n",
    "transactions_df"
   ]
  },
  {
   "cell_type": "markdown",
   "metadata": {},
   "source": [
    "# Run the brute force algorithm"
   ]
  },
  {
   "cell_type": "code",
   "execution_count": 8,
   "metadata": {},
   "outputs": [
    {
     "name": "stdout",
     "output_type": "stream",
     "text": [
      "\n",
      "\n",
      "Final Association Rules:\n",
      "\n",
      "Rule 1: {'CORNFLAKES'} -> {'COFFEE'}\n",
      "Confidence: 71.43%\n",
      "Support: 23.81%\n",
      "\n",
      "Rule 2: {'COFFEE'} -> {'CORNFLAKES'}\n",
      "Confidence: 55.56%\n",
      "Support: 23.81%\n",
      "\n",
      "Rule 3: {'TEA'} -> {'BREAD'}\n",
      "Confidence: 62.50%\n",
      "Support: 23.81%\n",
      "\n",
      "Rule 4: {'MILK'} -> {'BREAD'}\n",
      "Confidence: 83.33%\n",
      "Support: 23.81%\n",
      "\n"
     ]
    }
   ],
   "source": [
    "from bruteforce import bruteforce_algorithm\n",
    "from datetime import datetime\n",
    "\n",
    "brute_start_time = datetime.now()\n",
    "bruteforce_algorithm(\n",
    "    set(items_df[\"Items\"].tolist()),\n",
    "    transactions_df[\"Transaction\"].apply(lambda t: t.split(\", \")).apply(sorted).tolist(),\n",
    "    min_support,\n",
    "    min_confidence,\n",
    ")\n",
    "brute_end_time = datetime.now()"
   ]
  },
  {
   "cell_type": "markdown",
   "metadata": {},
   "source": [
    "# Run the apriori algorithm"
   ]
  },
  {
   "cell_type": "code",
   "execution_count": 9,
   "metadata": {},
   "outputs": [
    {
     "name": "stdout",
     "output_type": "stream",
     "text": [
      "\n",
      "\n",
      "Association Rules from library apriori algorithm:\n",
      "\n",
      "Rule 1: {'MILK'} -> {'BREAD'}\n",
      "Confidence: 83.33%\n",
      "Support: 23.81%\n",
      "\n",
      "Rule 2: {'TEA'} -> {'BREAD'}\n",
      "Confidence: 62.50%\n",
      "Support: 23.81%\n",
      "\n",
      "Rule 3: {'CORNFLAKES'} -> {'COFFEE'}\n",
      "Confidence: 71.43%\n",
      "Support: 23.81%\n",
      "\n",
      "Rule 4: {'COFFEE'} -> {'CORNFLAKES'}\n",
      "Confidence: 55.56%\n",
      "Support: 23.81%\n",
      "\n"
     ]
    }
   ],
   "source": [
    "from library import get_frequent_itemset_lib_algos\n",
    "\n",
    "apriori_start_time = datetime.now()\n",
    "lib_apriori_association_rules = get_frequent_itemset_lib_algos(\n",
    "    transactions_df[\"Transaction\"].apply(lambda t: t.split(\", \")).apply(sorted).tolist(),\n",
    "    min_support,\n",
    "    min_confidence,\n",
    "    algorithm=\"apriori\",\n",
    ")\n",
    "apriori_end_time = datetime.now()"
   ]
  },
  {
   "cell_type": "markdown",
   "metadata": {},
   "source": [
    "# Run the fpgrowth algorithm"
   ]
  },
  {
   "cell_type": "code",
   "execution_count": 10,
   "metadata": {},
   "outputs": [
    {
     "name": "stdout",
     "output_type": "stream",
     "text": [
      "\n",
      "\n",
      "Association Rules from library fpgrowth algorithm:\n",
      "\n",
      "Rule 1: {'MILK'} -> {'BREAD'}\n",
      "Confidence: 83.33%\n",
      "Support: 23.81%\n",
      "\n",
      "Rule 2: {'CORNFLAKES'} -> {'COFFEE'}\n",
      "Confidence: 71.43%\n",
      "Support: 23.81%\n",
      "\n",
      "Rule 3: {'COFFEE'} -> {'CORNFLAKES'}\n",
      "Confidence: 55.56%\n",
      "Support: 23.81%\n",
      "\n",
      "Rule 4: {'TEA'} -> {'BREAD'}\n",
      "Confidence: 62.50%\n",
      "Support: 23.81%\n",
      "\n"
     ]
    }
   ],
   "source": [
    "fpgrowth_start_time = datetime.now()\n",
    "lib_fpgrowth_association_rules = get_frequent_itemset_lib_algos(\n",
    "    transactions_df[\"Transaction\"].apply(lambda t: t.split(\", \")).apply(sorted).tolist(),\n",
    "    min_support,\n",
    "    min_confidence,\n",
    "    algorithm=\"fpgrowth\",\n",
    ")\n",
    "fpgrowth_end_time = datetime.now()"
   ]
  },
  {
   "cell_type": "markdown",
   "metadata": {},
   "source": [
    "# Time comparison analysis"
   ]
  },
  {
   "cell_type": "code",
   "execution_count": 11,
   "metadata": {},
   "outputs": [
    {
     "name": "stdout",
     "output_type": "stream",
     "text": [
      "Time comparison analysis\n",
      "Bruteforce algorithm:  0:00:00.000700\n",
      "Apriori algorithm:  0:00:00.004211\n",
      "Fpgrowth algorithm:  0:00:00.002196\n"
     ]
    }
   ],
   "source": [
    "print(\"Time comparison analysis\")\n",
    "print(\"Bruteforce algorithm: \", brute_end_time - brute_start_time)\n",
    "print(\"Apriori algorithm: \", apriori_end_time - apriori_start_time)\n",
    "print(\"Fpgrowth algorithm: \", fpgrowth_end_time - fpgrowth_start_time)"
   ]
  }
 ],
 "metadata": {
  "kernelspec": {
   "display_name": ".venv",
   "language": "python",
   "name": "python3"
  },
  "language_info": {
   "codemirror_mode": {
    "name": "ipython",
    "version": 3
   },
   "file_extension": ".py",
   "mimetype": "text/x-python",
   "name": "python",
   "nbconvert_exporter": "python",
   "pygments_lexer": "ipython3",
   "version": "3.11.7"
  }
 },
 "nbformat": 4,
 "nbformat_minor": 2
}
